{
 "cells": [
  {
   "cell_type": "markdown",
   "id": "5a3768c3",
   "metadata": {},
   "source": [
    "# Creating Array in python"
   ]
  },
  {
   "cell_type": "code",
   "execution_count": 29,
   "id": "c28ec82d",
   "metadata": {},
   "outputs": [
    {
     "name": "stdout",
     "output_type": "stream",
     "text": [
      "738\n",
      "658\n",
      "658\n"
     ]
    }
   ],
   "source": [
    "import array as arr \n",
    "\n",
    "number_r = arr.array('l',[440,658,738])\n",
    "\n",
    "print(number_r[-1])#get the 1'st item reverse\n",
    "\n",
    "print(number_r[-2])#get the 2'nd' item reverse\n",
    "print(number_r[1])#get the 1'nd' item "
   ]
  },
  {
   "cell_type": "markdown",
   "id": "775ede3c",
   "metadata": {},
   "source": [
    "Using For loop"
   ]
  },
  {
   "cell_type": "code",
   "execution_count": 4,
   "id": "0ba53379",
   "metadata": {},
   "outputs": [
    {
     "name": "stdout",
     "output_type": "stream",
     "text": [
      "101\n",
      "339\n",
      "20\n"
     ]
    }
   ],
   "source": [
    "import array as arr \n",
    "\n",
    "number_r = arr.array('i',[101,339,20])\n",
    "\n",
    "for number in number_r:\n",
    "    print(number)\n",
    "    "
   ]
  },
  {
   "cell_type": "code",
   "execution_count": 6,
   "id": "a9d85ff0",
   "metadata": {},
   "outputs": [
    {
     "name": "stdout",
     "output_type": "stream",
     "text": [
      "0\n",
      "1\n",
      "2\n"
     ]
    }
   ],
   "source": [
    "import array as arr \n",
    "\n",
    "number_r = arr.array('i',[101,339,20])#using range & len ()\n",
    "\n",
    "for number in range(len(number_r)):\n",
    "    print(number)\n",
    "    "
   ]
  },
  {
   "cell_type": "markdown",
   "id": "0534a39b",
   "metadata": {},
   "source": [
    "Slicing the array"
   ]
  },
  {
   "cell_type": "code",
   "execution_count": 25,
   "id": "cd6fc668",
   "metadata": {},
   "outputs": [
    {
     "name": "stdout",
     "output_type": "stream",
     "text": [
      "array('l', [6])\n"
     ]
    }
   ],
   "source": [
    "import array as arr \n",
    "\n",
    "number_r = arr.array('l',[6,6,7])\n",
    "\n",
    "print(number_r[:1])"
   ]
  },
  {
   "cell_type": "code",
   "execution_count": 26,
   "id": "55c023ef",
   "metadata": {},
   "outputs": [
    {
     "name": "stdout",
     "output_type": "stream",
     "text": [
      "array('l', [677, 554, 932])\n"
     ]
    }
   ],
   "source": [
    "import array as arr \n",
    "\n",
    "number_r = arr.array('l',[677,554,932])\n",
    "\n",
    "print(number_r[:])"
   ]
  },
  {
   "cell_type": "code",
   "execution_count": 27,
   "id": "0548d0f7",
   "metadata": {},
   "outputs": [
    {
     "name": "stdout",
     "output_type": "stream",
     "text": [
      "array('l', [54, 54])\n"
     ]
    }
   ],
   "source": [
    "import array as arr \n",
    "\n",
    "number_r = arr.array('l',[88,54,54])\n",
    "\n",
    "print(number_r[1:3])"
   ]
  },
  {
   "cell_type": "markdown",
   "id": "83470a91",
   "metadata": {},
   "source": [
    "Change the value of items in a array"
   ]
  },
  {
   "cell_type": "code",
   "execution_count": 11,
   "id": "67bfcc62",
   "metadata": {},
   "outputs": [
    {
     "name": "stdout",
     "output_type": "stream",
     "text": [
      "array('i', [78, 788, 22])\n"
     ]
    }
   ],
   "source": [
    "import array as arr \n",
    "\n",
    "numbers_r = arr.array('i',[78,289,22])\n",
    "\n",
    "numbers_r[1] = 788# change the value of item in a array\n",
    "\n",
    "print(numbers_r)"
   ]
  },
  {
   "cell_type": "markdown",
   "id": "0af91839",
   "metadata": {},
   "source": [
    "Adding the value in to array"
   ]
  },
  {
   "cell_type": "code",
   "execution_count": 12,
   "id": "8a18bcba",
   "metadata": {},
   "outputs": [
    {
     "name": "stdout",
     "output_type": "stream",
     "text": [
      "array('i', [77, 88, 878, 889])\n"
     ]
    }
   ],
   "source": [
    "import array as arr \n",
    "\n",
    "numbers_r = arr.array('i',[77,88,878])\n",
    "\n",
    "#add the integer 40 to the end of numbers\n",
    "numbers_r.append(889)\n",
    "\n",
    "print(numbers_r)\n"
   ]
  },
  {
   "cell_type": "code",
   "execution_count": 16,
   "id": "6fca07a0",
   "metadata": {},
   "outputs": [
    {
     "name": "stdout",
     "output_type": "stream",
     "text": [
      "array('i', [77, 88, 878, 88, 66, 77])\n"
     ]
    }
   ],
   "source": [
    "import array as arr \n",
    "\n",
    "numbers_r = arr.array('i',[77,88,878])\n",
    "\n",
    "numbers_r.extend([88,66,77])\n",
    "\n",
    "print(numbers_r)\n"
   ]
  },
  {
   "cell_type": "code",
   "execution_count": 17,
   "id": "c2b95791",
   "metadata": {},
   "outputs": [
    {
     "name": "stdout",
     "output_type": "stream",
     "text": [
      "array('i', [77, 88, 878, 66])\n"
     ]
    }
   ],
   "source": [
    "import array as arr \n",
    "\n",
    "numbers_r = arr.array('i',[77,88,878])\n",
    "\n",
    "numbers_r.insert(88,66)\n",
    "\n",
    "print(numbers_r)\n"
   ]
  },
  {
   "cell_type": "markdown",
   "id": "337c3531",
   "metadata": {},
   "source": [
    "Remove a value from an array"
   ]
  },
  {
   "cell_type": "code",
   "execution_count": 22,
   "id": "28b86a32",
   "metadata": {},
   "outputs": [
    {
     "name": "stdout",
     "output_type": "stream",
     "text": [
      "array('i', [77, 878, 88])\n"
     ]
    }
   ],
   "source": [
    "import array as arr \n",
    "\n",
    "numbers_r = arr.array('i',[77,88,878,88])# if there is more than one identical value it removes one\n",
    "\n",
    "numbers_r.remove(88)\n",
    "\n",
    "print(numbers_r)"
   ]
  },
  {
   "cell_type": "code",
   "execution_count": 24,
   "id": "9c8cb5ac",
   "metadata": {},
   "outputs": [
    {
     "name": "stdout",
     "output_type": "stream",
     "text": [
      "array('i', [77, 878, 88])\n"
     ]
    }
   ],
   "source": [
    "import array as arr \n",
    "\n",
    "numbers_r = arr.array('i',[77,88,878,88])\n",
    "numbers_r.pop(1)\n",
    "\n",
    "print(numbers_r)"
   ]
  },
  {
   "cell_type": "code",
   "execution_count": null,
   "id": "0f679063",
   "metadata": {},
   "outputs": [],
   "source": []
  }
 ],
 "metadata": {
  "kernelspec": {
   "display_name": "Python 3 (ipykernel)",
   "language": "python",
   "name": "python3"
  },
  "language_info": {
   "codemirror_mode": {
    "name": "ipython",
    "version": 3
   },
   "file_extension": ".py",
   "mimetype": "text/x-python",
   "name": "python",
   "nbconvert_exporter": "python",
   "pygments_lexer": "ipython3",
   "version": "3.10.9"
  }
 },
 "nbformat": 4,
 "nbformat_minor": 5
}
